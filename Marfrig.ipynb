{
 "cells": [
  {
   "cell_type": "code",
   "execution_count": 1,
   "metadata": {},
   "outputs": [],
   "source": [
    "## Bibliotecas necessárias \n",
    "\n",
    "# Biblioteca para Modelagem\n",
    "import numpy as np\n",
    "import pandas as pd\n",
    "\n",
    "# Biblioteca para análise gráfica\n",
    "import matplotlib.pyplot as plt\n",
    "import plotly.graph_objects as go\n",
    "import seaborn as sns\n",
    "\n",
    "# Ignorar avisos\n",
    "import warnings\n",
    "warnings.filterwarnings('ignore')"
   ]
  },
  {
   "cell_type": "code",
   "execution_count": 2,
   "metadata": {},
   "outputs": [
    {
     "data": {
      "text/html": [
       "<div>\n",
       "<style scoped>\n",
       "    .dataframe tbody tr th:only-of-type {\n",
       "        vertical-align: middle;\n",
       "    }\n",
       "\n",
       "    .dataframe tbody tr th {\n",
       "        vertical-align: top;\n",
       "    }\n",
       "\n",
       "    .dataframe thead th {\n",
       "        text-align: right;\n",
       "    }\n",
       "</style>\n",
       "<table border=\"1\" class=\"dataframe\">\n",
       "  <thead>\n",
       "    <tr style=\"text-align: right;\">\n",
       "      <th></th>\n",
       "      <th>Date</th>\n",
       "      <th>Open</th>\n",
       "      <th>High</th>\n",
       "      <th>Low</th>\n",
       "      <th>Close</th>\n",
       "      <th>Adj Close</th>\n",
       "      <th>Volume</th>\n",
       "    </tr>\n",
       "  </thead>\n",
       "  <tbody>\n",
       "    <tr>\n",
       "      <th>0</th>\n",
       "      <td>2021-01-04</td>\n",
       "      <td>14.66</td>\n",
       "      <td>14.79</td>\n",
       "      <td>14.16</td>\n",
       "      <td>14.30</td>\n",
       "      <td>11.246990</td>\n",
       "      <td>8144400</td>\n",
       "    </tr>\n",
       "    <tr>\n",
       "      <th>1</th>\n",
       "      <td>2021-01-05</td>\n",
       "      <td>14.29</td>\n",
       "      <td>14.33</td>\n",
       "      <td>13.98</td>\n",
       "      <td>14.21</td>\n",
       "      <td>11.176205</td>\n",
       "      <td>7203500</td>\n",
       "    </tr>\n",
       "    <tr>\n",
       "      <th>2</th>\n",
       "      <td>2021-01-06</td>\n",
       "      <td>14.20</td>\n",
       "      <td>14.26</td>\n",
       "      <td>13.75</td>\n",
       "      <td>13.78</td>\n",
       "      <td>10.838008</td>\n",
       "      <td>11868700</td>\n",
       "    </tr>\n",
       "    <tr>\n",
       "      <th>3</th>\n",
       "      <td>2021-01-07</td>\n",
       "      <td>13.86</td>\n",
       "      <td>14.09</td>\n",
       "      <td>13.79</td>\n",
       "      <td>13.84</td>\n",
       "      <td>10.885200</td>\n",
       "      <td>6188000</td>\n",
       "    </tr>\n",
       "    <tr>\n",
       "      <th>4</th>\n",
       "      <td>2021-01-08</td>\n",
       "      <td>13.90</td>\n",
       "      <td>14.16</td>\n",
       "      <td>13.88</td>\n",
       "      <td>14.01</td>\n",
       "      <td>11.018906</td>\n",
       "      <td>7752900</td>\n",
       "    </tr>\n",
       "  </tbody>\n",
       "</table>\n",
       "</div>"
      ],
      "text/plain": [
       "         Date   Open   High    Low  Close  Adj Close    Volume\n",
       "0  2021-01-04  14.66  14.79  14.16  14.30  11.246990   8144400\n",
       "1  2021-01-05  14.29  14.33  13.98  14.21  11.176205   7203500\n",
       "2  2021-01-06  14.20  14.26  13.75  13.78  10.838008  11868700\n",
       "3  2021-01-07  13.86  14.09  13.79  13.84  10.885200   6188000\n",
       "4  2021-01-08  13.90  14.16  13.88  14.01  11.018906   7752900"
      ]
     },
     "execution_count": 2,
     "metadata": {},
     "output_type": "execute_result"
    }
   ],
   "source": [
    "# Lendo a base de dados e visulizando as primeiras linhas\n",
    "BaseDados = pd.read_csv(\"MRFG3.SA.csv\")\n",
    "BaseDados.head()"
   ]
  },
  {
   "cell_type": "code",
   "execution_count": 3,
   "metadata": {},
   "outputs": [
    {
     "name": "stdout",
     "output_type": "stream",
     "text": [
      "<class 'pandas.core.frame.DataFrame'>\n",
      "RangeIndex: 342 entries, 0 to 341\n",
      "Data columns (total 7 columns):\n",
      " #   Column     Non-Null Count  Dtype  \n",
      "---  ------     --------------  -----  \n",
      " 0   Date       342 non-null    object \n",
      " 1   Open       342 non-null    float64\n",
      " 2   High       342 non-null    float64\n",
      " 3   Low        342 non-null    float64\n",
      " 4   Close      342 non-null    float64\n",
      " 5   Adj Close  342 non-null    float64\n",
      " 6   Volume     342 non-null    int64  \n",
      "dtypes: float64(5), int64(1), object(1)\n",
      "memory usage: 18.8+ KB\n"
     ]
    }
   ],
   "source": [
    "# Verificando se é necessário alguma modificação no tipo de dado\n",
    "BaseDados.info()"
   ]
  },
  {
   "cell_type": "code",
   "execution_count": 4,
   "metadata": {},
   "outputs": [
    {
     "name": "stdout",
     "output_type": "stream",
     "text": [
      "<class 'pandas.core.frame.DataFrame'>\n",
      "RangeIndex: 342 entries, 0 to 341\n",
      "Data columns (total 7 columns):\n",
      " #   Column     Non-Null Count  Dtype         \n",
      "---  ------     --------------  -----         \n",
      " 0   Date       342 non-null    datetime64[ns]\n",
      " 1   Open       342 non-null    float64       \n",
      " 2   High       342 non-null    float64       \n",
      " 3   Low        342 non-null    float64       \n",
      " 4   Close      342 non-null    float64       \n",
      " 5   Adj Close  342 non-null    float64       \n",
      " 6   Volume     342 non-null    int64         \n",
      "dtypes: datetime64[ns](1), float64(5), int64(1)\n",
      "memory usage: 18.8 KB\n"
     ]
    }
   ],
   "source": [
    "# Mudando o Type da coluna \"Date\" para data e verificando a mudança\n",
    "BaseDados[\"Date\"] = BaseDados[\"Date\"].astype(\"datetime64\")\n",
    "BaseDados.info()"
   ]
  },
  {
   "cell_type": "code",
   "execution_count": 5,
   "metadata": {},
   "outputs": [
    {
     "data": {
      "text/plain": [
       "Text(0, 0.5, 'Valor da Ação (R$)')"
      ]
     },
     "execution_count": 5,
     "metadata": {},
     "output_type": "execute_result"
    },
    {
     "data": {
      "image/png": "[encoded data removed]",
      "text/plain": [
       "<Figure size 1440x576 with 1 Axes>"
      ]
     },
     "metadata": {
      "needs_background": "light"
     },
     "output_type": "display_data"
    }
   ],
   "source": [
    "# Estilo do gráfico\n",
    "plt.style.use('seaborn-darkgrid')\n",
    "plt.figure( figsize=(20, 8))\n",
    "\n",
    "# Criando o gráfico\n",
    "plt.title('Análise de Fechamento - MRFG3', fontsize=16)\n",
    "plt.plot(BaseDados.Close, label=\"Fechamento\")\n",
    "\n",
    "# Titulos\n",
    "plt.xlabel('Período da Cotação',fontsize=13)\n",
    "plt.ylabel('Valor da Ação (R$)',fontsize=13)"
   ]
  },
  {
   "cell_type": "code",
   "execution_count": 6,
   "metadata": {},
   "outputs": [
    {
     "data": {
      "text/plain": [
       "Text(0, 0.5, 'Valor da Ação (R$)')"
      ]
     },
     "execution_count": 6,
     "metadata": {},
     "output_type": "execute_result"
    },
    {
     "data": {
      "image/png": "[encoded data removed]",
      "text/plain": [
       "<Figure size 1440x576 with 1 Axes>"
      ]
     },
     "metadata": {},
     "output_type": "display_data"
    }
   ],
   "source": [
    "## Grafico de Tendência e Média móvel\n",
    "\n",
    "# Criando as variáveis\n",
    "MediaMovel = BaseDados['Close'].rolling(5).mean()\n",
    "Tendencia = BaseDados['Close'].rolling(30).mean()\n",
    "\n",
    "# Estilo do gráfico\n",
    "plt.style.use('seaborn-darkgrid')\n",
    "plt.figure( figsize=(20, 8) )\n",
    "plt.title('Análise de Fechamento - MRFG3', fontsize=16)\n",
    "\n",
    "# Criando o gráfico\n",
    "plt.plot( BaseDados.Close, label=\"Fechamento\")\n",
    "plt.plot( Tendencia, label=\"Média Móvel\")\n",
    "plt.plot( MediaMovel, label='Tendência')\n",
    "\n",
    "# Titulos e legendas\n",
    "plt.legend(fontsize=13, loc=1)\n",
    "plt.xlabel('Período da Coração',fontsize=13)\n",
    "plt.ylabel('Valor da Ação (R$)',fontsize=13)"
   ]
  },
  {
   "cell_type": "code",
   "execution_count": 7,
   "metadata": {},
   "outputs": [
    {
     "data": {
      "text/plain": [
       "Text(0, 0.5, 'Valor da Ação (R$)')"
      ]
     },
     "execution_count": 7,
     "metadata": {},
     "output_type": "execute_result"
    },
    {
     "data": {
      "image/png": "[encoded data removed]",
      "text/plain": [
       "<Figure size 1440x576 with 1 Axes>"
      ]
     },
     "metadata": {},
     "output_type": "display_data"
    }
   ],
   "source": [
    "# Criando colunda de Mês\n",
    "BaseDados[\"month\"] = BaseDados[\"Date\"].dt.month\n",
    "# Gerando BoxPlot\n",
    "plt.figure(figsize= (20,8))\n",
    "sns.boxplot(data=BaseDados, x = \"month\", y = \"Close\")\n",
    "plt.title('Análise de Fechamento de cada mês do ano - MRFG3', fontsize=16)\n",
    "plt.xlabel('Mês da cotação',fontsize=13)\n",
    "plt.ylabel('Valor da Ação (R$)',fontsize=13)"
   ]
  },
  {
   "cell_type": "code",
   "execution_count": 8,
   "metadata": {},
   "outputs": [
    {
     "data": {
      "application/vnd.plotly.v1+json": {
       "config": {
        "plotlyServerURL": "https://plot.ly"
       },
       "data": [
        {
         "close": [
          14.3,
          14.21,
          13.78,
          13.84,
          14.01,
          13.96,
          14.21,
          14.19,
          14.09,
          13.97,
          13.88,
          13.67,
          13.53,
          13.33,
          13.19,
          12.8,
          13.13,
          13.28,
          13.29,
          13.31,
          13.55,
          14.07,
          14.28,
          14.31,
          14.43,
          14.58,
          14.37,
          14.67,
          14.61,
          15.22,
          14.82,
          14.36,
          13.88,
          14.2,
          14.79,
          14.18,
          13.9,
          14.31,
          14.68,
          14.81,
          14.67,
          14.98,
          15.64,
          15.93,
          15.16,
          15.51,
          15.37,
          15.87,
          15.94,
          15.88,
          15.7,
          15.96,
          16.35,
          17,
          17.15,
          17.219999,
          16.83,
          17.549999,
          17.4,
          17.610001,
          17.870001,
          17.52,
          17.59,
          17.83,
          18.129999,
          18.34,
          18.24,
          17.860001,
          18.85,
          19.299999,
          19.360001,
          19.799999,
          20.709999,
          20.92,
          20.49,
          20.379999,
          19.99,
          19.049999,
          19.4,
          19.389999,
          18.870001,
          19.290001,
          19.799999,
          19.209999,
          19.540001,
          20.219999,
          20.719999,
          19.120001,
          18.4,
          18.57,
          18.469999,
          18.27,
          19,
          19.040001,
          18.049999,
          17.99,
          18.030001,
          18.530001,
          18.26,
          18.25,
          18.370001,
          18.48,
          18.959999,
          18.719999,
          18.299999,
          18.16,
          18.43,
          18.65,
          18.610001,
          19.059999,
          19.48,
          19.17,
          18.66,
          18.639999,
          18.76,
          18.540001,
          18.6,
          18.959999,
          19.09,
          19.280001,
          19.09,
          19.139999,
          19.450001,
          19.26,
          19.190001,
          19.040001,
          19.059999,
          18.91,
          18.74,
          18.66,
          18.68,
          18.540001,
          18.83,
          18.870001,
          19.67,
          19.48,
          20.129999,
          20.08,
          20.379999,
          20.040001,
          20.07,
          20.09,
          19.610001,
          19.799999,
          19.5,
          19.059999,
          18.83,
          18.83,
          19.52,
          19.559999,
          19.690001,
          19.41,
          19.450001,
          19.219999,
          19.219999,
          19.4,
          19.950001,
          20.16,
          20.85,
          20.889999,
          20.91,
          20.959999,
          21,
          20.969999,
          20.49,
          21.49,
          21.030001,
          21.34,
          21.889999,
          21.860001,
          22.43,
          22.98,
          21.389999,
          21.51,
          21.41,
          21.629999,
          21.219999,
          20.85,
          21.24,
          21.459999,
          22.41,
          22.66,
          24.280001,
          24.34,
          25.32,
          25.66,
          25.799999,
          25.85,
          26.23,
          26.040001,
          25.709999,
          26.15,
          26.360001,
          27.059999,
          27.700001,
          27.15,
          26.49,
          26.02,
          25.74,
          25.290001,
          25.120001,
          24.82,
          24.610001,
          25.27,
          25.16,
          26.5,
          25.440001,
          25.85,
          26.780001,
          26.370001,
          26.879999,
          26.84,
          26,
          26.15,
          26.51,
          25.709999,
          25.43,
          25.99,
          25.889999,
          25.049999,
          25.719999,
          25.17,
          24.450001,
          23.700001,
          23.879999,
          23.57,
          21.870001,
          22.139999,
          20.870001,
          20.85,
          21.25,
          22.59,
          22,
          22.02,
          22.07,
          23.57,
          23.26,
          22.93,
          23.780001,
          23.33,
          23.389999,
          21.82,
          22.73,
          22.27,
          22.780001,
          22.92,
          22.07,
          21.27,
          21.51,
          21.34,
          21.34,
          21.17,
          21.459999,
          21.280001,
          21.620001,
          22.74,
          23.51,
          23.25,
          22.620001,
          22.690001,
          22.35,
          22.440001,
          23.49,
          23.629999,
          23.08,
          22.389999,
          22.57,
          22.48,
          22.309999,
          21.75,
          20.139999,
          20.32,
          20.870001,
          21.91,
          22.34,
          22.889999,
          22.950001,
          22.370001,
          22.290001,
          21.799999,
          22.719999,
          22.33,
          21.309999,
          22.129999,
          22.200001,
          22.98,
          22.17,
          22.75,
          22.040001,
          20.959999,
          21.299999,
          21.860001,
          22.5,
          21.74,
          20.25,
          20.25,
          20.24,
          20.49,
          20.790001,
          21.32,
          21.27,
          20.950001,
          20.73,
          20.950001,
          20.17,
          20.98,
          21.4,
          21.440001,
          21.4,
          21.290001,
          21.879999,
          21.66,
          21.32,
          21.6,
          22.43,
          21.780001,
          20.75,
          20.32,
          19.76,
          19.280001,
          19.360001,
          19.25,
          18.75,
          18.540001,
          18.52,
          19.41,
          18.969999,
          18.75,
          18.360001,
          18.17,
          16.76,
          15.83,
          16.040001,
          15.53,
          14.94,
          14.92,
          15.05,
          15.61,
          15.67,
          15.44,
          15.12,
          14.83
         ],
         "high": [
          14.79,
          14.33,
          14.26,
          14.09,
          14.16,
          14.14,
          14.45,
          14.36,
          14.33,
          14.13,
          14.26,
          13.98,
          13.92,
          13.61,
          13.26,
          13.28,
          13.32,
          13.5,
          13.68,
          13.49,
          13.94,
          14.18,
          14.48,
          14.63,
          14.63,
          14.7,
          14.62,
          14.72,
          14.87,
          15.35,
          15.38,
          15,
          14.46,
          14.33,
          14.9,
          15.07,
          14.5,
          14.7,
          14.85,
          15.31,
          15.39,
          15.17,
          15.91,
          16.58,
          16.17,
          15.51,
          15.68,
          15.94,
          16.26,
          16.049999,
          15.82,
          16.09,
          16.540001,
          17.17,
          17.48,
          17.52,
          17.33,
          17.549999,
          17.9,
          17.610001,
          18.110001,
          18.09,
          17.76,
          18.07,
          18.200001,
          18.469999,
          18.360001,
          18.26,
          19.040001,
          19.41,
          19.639999,
          20.02,
          20.99,
          21.049999,
          21.209999,
          20.620001,
          20.5,
          20.129999,
          19.700001,
          19.6,
          19.42,
          19.77,
          19.950001,
          20.18,
          19.6,
          20.23,
          20.719999,
          20.379999,
          19.299999,
          18.75,
          18.870001,
          18.530001,
          19.389999,
          19.129999,
          20.75,
          17.99,
          18.59,
          18.73,
          18.860001,
          18.389999,
          18.379999,
          18.59,
          19.450001,
          19.120001,
          18.73,
          18.33,
          18.469999,
          18.719999,
          18.92,
          19.139999,
          19.77,
          19.639999,
          19.23,
          18.75,
          18.85,
          19.01,
          18.860001,
          18.959999,
          19.190001,
          19.49,
          19.42,
          19.200001,
          19.559999,
          20.07,
          19.450001,
          19.26,
          19.190001,
          19.200001,
          19.059999,
          18.91,
          18.83,
          18.690001,
          19.09,
          19.4,
          19.73,
          19.870001,
          20.200001,
          20.309999,
          20.459999,
          20.52,
          20.290001,
          20.200001,
          20.059999,
          20,
          19.799999,
          19.389999,
          19.27,
          19.030001,
          19.629999,
          19.700001,
          20.07,
          20.030001,
          19.65,
          19.450001,
          19.290001,
          19.57,
          20.07,
          20.35,
          21.07,
          21.280001,
          21.01,
          21.360001,
          21.08,
          21.1,
          21.059999,
          21.540001,
          21.959999,
          21.59,
          22.02,
          22.27,
          22.700001,
          23.290001,
          21.75,
          21.65,
          21.469999,
          21.82,
          21.610001,
          21.02,
          21.48,
          21.780001,
          22.5,
          22.950001,
          24.370001,
          24.530001,
          25.35,
          25.690001,
          25.93,
          26.23,
          26.5,
          26.51,
          26.18,
          26.35,
          26.65,
          27.530001,
          28.059999,
          27.969999,
          27.469999,
          26.75,
          26.309999,
          25.67,
          25.67,
          25.360001,
          25.309999,
          25.540001,
          25.67,
          26.940001,
          27.040001,
          26.1,
          27.07,
          27.049999,
          27,
          27.49,
          27.1,
          26.68,
          26.6,
          26.5,
          26.09,
          25.99,
          26.549999,
          26.110001,
          25.76,
          25.82,
          25.299999,
          24.33,
          24.24,
          23.879999,
          23.959999,
          22.33,
          21.84,
          21.49,
          21.75,
          22.709999,
          22.51,
          22.43,
          22.35,
          23.57,
          24.309999,
          23.540001,
          24.24,
          23.75,
          23.889999,
          22.450001,
          22.83,
          22.959999,
          22.799999,
          23.190001,
          23.1,
          22,
          21.99,
          21.940001,
          21.93,
          21.65,
          22.32,
          21.5,
          21.68,
          22.950001,
          23.700001,
          23.790001,
          23.24,
          23.129999,
          23.16,
          22.68,
          23.73,
          24.09,
          24.27,
          23.450001,
          22.75,
          22.68,
          23.35,
          22.76,
          21.75,
          20.610001,
          21.030001,
          21.99,
          22.65,
          23.08,
          23.209999,
          23.459999,
          22.75,
          22.5,
          22.790001,
          22.950001,
          22.42,
          22.290001,
          22.379999,
          23.1,
          22.809999,
          23.190001,
          22.959999,
          22.35,
          21.5,
          21.92,
          22.6,
          22.450001,
          22.01,
          20.5,
          20.620001,
          20.950001,
          20.860001,
          21.41,
          21.49,
          21.709999,
          21.09,
          21.18,
          21.030001,
          21.17,
          21.5,
          21.75,
          21.65,
          21.48,
          21.92,
          22.16,
          21.809999,
          21.9,
          22.639999,
          22.49,
          22.219999,
          20.85,
          19.959999,
          19.940001,
          19.780001,
          20,
          19.209999,
          18.790001,
          18.889999,
          19.469999,
          19.559999,
          19.41,
          19.01,
          18.530001,
          18.17,
          16.540001,
          16.5,
          15.93,
          15.76,
          15.11,
          15.08,
          15.9,
          15.74,
          16,
          15.56,
          15.16
         ],
         "low": [
          14.16,
          13.98,
          13.75,
          13.79,
          13.88,
          13.81,
          13.89,
          14.01,
          14.09,
          13.91,
          13.79,
          13.51,
          13.42,
          13.17,
          13.03,
          12.38,
          12.53,
          12.93,
          13.12,
          13.03,
          13.4,
          13.57,
          13.88,
          14.21,
          14.21,
          14.37,
          14.28,
          14.37,
          14.52,
          14.61,
          14.76,
          14.23,
          13.82,
          13.87,
          14.22,
          14.14,
          13.88,
          14.06,
          14.05,
          14.48,
          14.48,
          14.61,
          15.03,
          15.7,
          14.93,
          14.77,
          15.29,
          15.25,
          15.74,
          15.67,
          15.34,
          15.68,
          15.88,
          16.280001,
          16.91,
          16.719999,
          16.610001,
          16.790001,
          17.379999,
          17.120001,
          17.41,
          17.33,
          17.52,
          17.48,
          17.82,
          17.950001,
          17.950001,
          17.809999,
          17.93,
          18.85,
          19.059999,
          19.110001,
          19.82,
          20.57,
          20.299999,
          20.02,
          19.66,
          18.940001,
          19.07,
          19.09,
          18.43,
          18.91,
          19.27,
          19,
          18.74,
          19.25,
          19.77,
          19.02,
          18.34,
          18.26,
          18.4,
          17.75,
          18,
          18.58,
          17.799999,
          16.959999,
          18.01,
          18.059999,
          18.26,
          17.82,
          18.1,
          18.190001,
          18.540001,
          18.35,
          18.209999,
          17.700001,
          17.950001,
          18.16,
          18.34,
          18.65,
          18.879999,
          19.01,
          18.549999,
          18.459999,
          18.280001,
          18.43,
          18.15,
          18.49,
          18.629999,
          19.09,
          18.98,
          18.809999,
          19.059999,
          19.25,
          19.120001,
          18.83,
          18.709999,
          18.610001,
          18.559999,
          18.66,
          18.51,
          18.35,
          18.52,
          18.75,
          18.85,
          19.34,
          19.48,
          19.93,
          20.059999,
          19.959999,
          19.969999,
          19.860001,
          19.559999,
          19.65,
          19.209999,
          18.9,
          18.629999,
          18.66,
          18.9,
          19.360001,
          19.450001,
          19.34,
          19.25,
          18.809999,
          18.99,
          19.1,
          19.219999,
          19.719999,
          20.200001,
          20.799999,
          20.620001,
          20.84,
          20.719999,
          20.559999,
          20.49,
          20.51,
          21,
          21.01,
          20.879999,
          21.73,
          21.889999,
          22.459999,
          21.09,
          21.309999,
          21,
          21.299999,
          21.01,
          20.51,
          20.83,
          21.32,
          21.459999,
          22.139999,
          22.459999,
          23.959999,
          24.290001,
          24.65,
          25.33,
          25.48,
          25.75,
          25.559999,
          25.52,
          25.549999,
          26.030001,
          26.32,
          26.940001,
          27.15,
          26.35,
          25.84,
          25.639999,
          24.74,
          24.4,
          24.65,
          24.52,
          24.73,
          24.85,
          24.93,
          25.049999,
          24.790001,
          25.790001,
          26.33,
          26.200001,
          26.360001,
          25.85,
          26,
          25.870001,
          25.1,
          25.040001,
          25.25,
          25.65,
          25.049999,
          25.02,
          25.17,
          24.41,
          23.559999,
          23.719999,
          22.82,
          21.82,
          21.940001,
          20.190001,
          20.59,
          20.790001,
          21.65,
          21.82,
          21.92,
          21.76,
          22.200001,
          23.059999,
          22.790001,
          23.27,
          23.049999,
          23.17,
          21.540001,
          21.809999,
          22.139999,
          22.27,
          22.549999,
          22.07,
          21.1,
          21.02,
          21.26,
          21.17,
          21.07,
          21.26,
          20.76,
          20.98,
          21.49,
          22.6,
          23.190001,
          22.620001,
          22.610001,
          22.25,
          21.879999,
          22.4,
          23.07,
          23.08,
          22.200001,
          22.18,
          22.23,
          22.209999,
          21.58,
          20.139999,
          20.01,
          20.190001,
          20.91,
          21.84,
          22.219999,
          22.67,
          22.129999,
          22.07,
          21.780001,
          21.709999,
          22.33,
          21.15,
          21.309999,
          22.059999,
          21.639999,
          21.950001,
          22.26,
          22.040001,
          20.82,
          20.559999,
          20.75,
          21.02,
          21.459999,
          20.1,
          19.52,
          19.91,
          20.17,
          20.25,
          20.639999,
          20.9,
          20.85,
          20.709999,
          20.719999,
          20,
          20.18,
          20.98,
          21.040001,
          21.24,
          20.83,
          21.209999,
          21.559999,
          20.959999,
          21.200001,
          21.459999,
          21.709999,
          20.629999,
          20.110001,
          19.559999,
          19.18,
          19.02,
          19.25,
          18.639999,
          18.379999,
          18.299999,
          18.6,
          18.42,
          18.75,
          18.15,
          17.85,
          16.27,
          15.51,
          15.66,
          15.07,
          14.88,
          14.59,
          14.64,
          15.02,
          14.95,
          15.24,
          15.03,
          14.76
         ],
         "open": [
          14.66,
          14.29,
          14.2,
          13.86,
          13.9,
          13.97,
          14.1,
          14.31,
          14.28,
          14.09,
          14.03,
          13.95,
          13.77,
          13.48,
          13.15,
          13.15,
          12.75,
          13.15,
          13.17,
          13.48,
          13.5,
          13.68,
          14.1,
          14.36,
          14.38,
          14.38,
          14.53,
          14.37,
          14.66,
          14.75,
          15.17,
          14.86,
          14,
          14.03,
          14.28,
          14.77,
          14.4,
          14.17,
          14.19,
          14.72,
          14.9,
          14.69,
          15.03,
          16.02,
          15.95,
          15.2,
          15.45,
          15.37,
          15.86,
          15.86,
          15.75,
          15.76,
          15.89,
          16.290001,
          16.92,
          17.139999,
          17.25,
          16.98,
          17.52,
          17.35,
          17.620001,
          17.959999,
          17.57,
          17.610001,
          17.85,
          18.07,
          18.209999,
          18.16,
          17.940001,
          18.950001,
          19.18,
          19.280001,
          19.9,
          20.82,
          21,
          20.6,
          20.459999,
          20.1,
          19.15,
          19.309999,
          19.389999,
          18.93,
          19.41,
          20,
          19.139999,
          19.639999,
          20.040001,
          20.01,
          19.23,
          18.59,
          18.6,
          18.379999,
          18,
          19.07,
          19.1,
          17.889999,
          18.15,
          18.15,
          18.58,
          18.379999,
          18.18,
          18.41,
          18.540001,
          19.049999,
          18.709999,
          18.33,
          18.18,
          18.43,
          18.59,
          18.75,
          19.049999,
          19.52,
          19.17,
          18.67,
          18.68,
          18.610001,
          18.620001,
          18.629999,
          19,
          19.139999,
          19.280001,
          19.01,
          19.16,
          19.530001,
          19.35,
          19.08,
          19.16,
          18.68,
          19.01,
          18.68,
          18.809999,
          18.66,
          18.540001,
          18.77,
          18.870001,
          19.76,
          19.48,
          20.120001,
          20.200001,
          20.26,
          20.190001,
          20.17,
          19.940001,
          20,
          19.799999,
          19.33,
          19.16,
          18.799999,
          18.92,
          19.610001,
          20.07,
          19.73,
          19.5,
          19.309999,
          19.18,
          19.139999,
          19.25,
          19.799999,
          20.299999,
          20.85,
          20.790001,
          21.030001,
          20.959999,
          20.889999,
          20.969999,
          20.549999,
          21.59,
          21.15,
          21.17,
          21.969999,
          21.93,
          22.66,
          21.58,
          21.41,
          21.4,
          21.309999,
          21.549999,
          20.68,
          20.91,
          21.389999,
          21.51,
          22.33,
          22.620001,
          24.17,
          24.59,
          25.51,
          25.65,
          25.52,
          25.9,
          25.98,
          26.18,
          25.84,
          26.200001,
          26.5,
          27.120001,
          27.84,
          26.99,
          26.23,
          25.860001,
          25.26,
          25.120001,
          25.33,
          24.52,
          25.209999,
          25.120001,
          25.26,
          26.950001,
          25.23,
          25.85,
          26.99,
          26.34,
          26.85,
          26.98,
          26.4,
          26.33,
          26.5,
          26.01,
          25.59,
          25.92,
          25.83,
          25.450001,
          25.82,
          25.299999,
          23.799999,
          24.059999,
          23.879999,
          23.83,
          22.129999,
          21.84,
          20.75,
          21.280001,
          21.719999,
          22.41,
          22.280001,
          22.02,
          22.299999,
          23.85,
          23.5,
          23.610001,
          23.48,
          23.5,
          22.35,
          21.809999,
          22.790001,
          22.4,
          22.709999,
          23.07,
          22,
          21.41,
          21.42,
          21.450001,
          21.24,
          21.26,
          21.43,
          21.360001,
          21.68,
          22.84,
          23.51,
          23.24,
          22.9,
          22.82,
          22.370001,
          22.4,
          23.26,
          23.790001,
          23.32,
          22.290001,
          22.639999,
          22.389999,
          22.24,
          21.75,
          20.24,
          20.190001,
          20.91,
          21.940001,
          22.51,
          22.99,
          23.059999,
          22.530001,
          22.43,
          21.77,
          22.73,
          22.33,
          21.450001,
          22.190001,
          21.709999,
          22.799999,
          22.35,
          22.959999,
          22.17,
          20.85,
          21.620001,
          21.969999,
          22.450001,
          21.969999,
          20.389999,
          20.25,
          20.379999,
          20.49,
          20.74,
          21.34,
          21.48,
          20.950001,
          20.83,
          20.99,
          20.280001,
          21.25,
          21.450001,
          21.59,
          21.4,
          21.389999,
          21.85,
          21.6,
          21.309999,
          21.49,
          22.33,
          22,
          20.84,
          19.82,
          19.809999,
          19.18,
          19.360001,
          19.16,
          18.620001,
          18.440001,
          18.74,
          19.5,
          19.08,
          18.790001,
          18.42,
          18.07,
          16.540001,
          15.79,
          15.7,
          15.63,
          14.99,
          14.89,
          15.15,
          15.67,
          15.9,
          15.4,
          15.08
         ],
         "type": "candlestick",
         "x": [
          "2021-01-04T00:00:00",
          "2021-01-05T00:00:00",
          "2021-01-06T00:00:00",
          "2021-01-07T00:00:00",
          "2021-01-08T00:00:00",
          "2021-01-11T00:00:00",
          "2021-01-12T00:00:00",
          "2021-01-13T00:00:00",
          "2021-01-14T00:00:00",
          "2021-01-15T00:00:00",
          "2021-01-18T00:00:00",
          "2021-01-19T00:00:00",
          "2021-01-20T00:00:00",
          "2021-01-21T00:00:00",
          "2021-01-22T00:00:00",
          "2021-01-26T00:00:00",
          "2021-01-27T00:00:00",
          "2021-01-28T00:00:00",
          "2021-01-29T00:00:00",
          "2021-02-01T00:00:00",
          "2021-02-02T00:00:00",
          "2021-02-03T00:00:00",
          "2021-02-04T00:00:00",
          "2021-02-05T00:00:00",
          "2021-02-08T00:00:00",
          "2021-02-09T00:00:00",
          "2021-02-10T00:00:00",
          "2021-02-11T00:00:00",
          "2021-02-12T00:00:00",
          "2021-02-17T00:00:00",
          "2021-02-18T00:00:00",
          "2021-02-19T00:00:00",
          "2021-02-22T00:00:00",
          "2021-02-23T00:00:00",
          "2021-02-24T00:00:00",
          "2021-02-25T00:00:00",
          "2021-02-26T00:00:00",
          "2021-03-01T00:00:00",
          "2021-03-02T00:00:00",
          "2021-03-03T00:00:00",
          "2021-03-04T00:00:00",
          "2021-03-05T00:00:00",
          "2021-03-08T00:00:00",
          "2021-03-09T00:00:00",
          "2021-03-10T00:00:00",
          "2021-03-11T00:00:00",
          "2021-03-12T00:00:00",
          "2021-03-15T00:00:00",
          "2021-03-16T00:00:00",
          "2021-03-17T00:00:00",
          "2021-03-18T00:00:00",
          "2021-03-19T00:00:00",
          "2021-03-22T00:00:00",
          "2021-03-23T00:00:00",
          "2021-03-24T00:00:00",
          "2021-03-25T00:00:00",
          "2021-03-26T00:00:00",
          "2021-03-29T00:00:00",
          "2021-03-30T00:00:00",
          "2021-03-31T00:00:00",
          "2021-04-01T00:00:00",
          "2021-04-05T00:00:00",
          "2021-04-06T00:00:00",
          "2021-04-07T00:00:00",
          "2021-04-08T00:00:00",
          "2021-04-09T00:00:00",
          "2021-04-12T00:00:00",
          "2021-04-13T00:00:00",
          "2021-04-14T00:00:00",
          "2021-04-15T00:00:00",
          "2021-04-16T00:00:00",
          "2021-04-19T00:00:00",
          "2021-04-20T00:00:00",
          "2021-04-22T00:00:00",
          "2021-04-23T00:00:00",
          "2021-04-26T00:00:00",
          "2021-04-27T00:00:00",
          "2021-04-28T00:00:00",
          "2021-04-29T00:00:00",
          "2021-04-30T00:00:00",
          "2021-05-03T00:00:00",
          "2021-05-04T00:00:00",
          "2021-05-05T00:00:00",
          "2021-05-06T00:00:00",
          "2021-05-07T00:00:00",
          "2021-05-10T00:00:00",
          "2021-05-11T00:00:00",
          "2021-05-12T00:00:00",
          "2021-05-13T00:00:00",
          "2021-05-14T00:00:00",
          "2021-05-17T00:00:00",
          "2021-05-18T00:00:00",
          "2021-05-19T00:00:00",
          "2021-05-20T00:00:00",
          "2021-05-21T00:00:00",
          "2021-05-24T00:00:00",
          "2021-05-25T00:00:00",
          "2021-05-26T00:00:00",
          "2021-05-27T00:00:00",
          "2021-05-28T00:00:00",
          "2021-05-31T00:00:00",
          "2021-06-01T00:00:00",
          "2021-06-02T00:00:00",
          "2021-06-04T00:00:00",
          "2021-06-07T00:00:00",
          "2021-06-08T00:00:00",
          "2021-06-09T00:00:00",
          "2021-06-10T00:00:00",
          "2021-06-11T00:00:00",
          "2021-06-14T00:00:00",
          "2021-06-15T00:00:00",
          "2021-06-16T00:00:00",
          "2021-06-17T00:00:00",
          "2021-06-18T00:00:00",
          "2021-06-21T00:00:00",
          "2021-06-22T00:00:00",
          "2021-06-23T00:00:00",
          "2021-06-24T00:00:00",
          "2021-06-25T00:00:00",
          "2021-06-28T00:00:00",
          "2021-06-29T00:00:00",
          "2021-06-30T00:00:00",
          "2021-07-01T00:00:00",
          "2021-07-02T00:00:00",
          "2021-07-05T00:00:00",
          "2021-07-06T00:00:00",
          "2021-07-07T00:00:00",
          "2021-07-08T00:00:00",
          "2021-07-12T00:00:00",
          "2021-07-13T00:00:00",
          "2021-07-14T00:00:00",
          "2021-07-15T00:00:00",
          "2021-07-16T00:00:00",
          "2021-07-19T00:00:00",
          "2021-07-20T00:00:00",
          "2021-07-21T00:00:00",
          "2021-07-22T00:00:00",
          "2021-07-23T00:00:00",
          "2021-07-26T00:00:00",
          "2021-07-27T00:00:00",
          "2021-07-28T00:00:00",
          "2021-07-29T00:00:00",
          "2021-07-30T00:00:00",
          "2021-08-02T00:00:00",
          "2021-08-03T00:00:00",
          "2021-08-04T00:00:00",
          "2021-08-05T00:00:00",
          "2021-08-06T00:00:00",
          "2021-08-09T00:00:00",
          "2021-08-10T00:00:00",
          "2021-08-11T00:00:00",
          "2021-08-12T00:00:00",
          "2021-08-13T00:00:00",
          "2021-08-16T00:00:00",
          "2021-08-17T00:00:00",
          "2021-08-18T00:00:00",
          "2021-08-19T00:00:00",
          "2021-08-20T00:00:00",
          "2021-08-23T00:00:00",
          "2021-08-24T00:00:00",
          "2021-08-25T00:00:00",
          "2021-08-26T00:00:00",
          "2021-08-27T00:00:00",
          "2021-08-30T00:00:00",
          "2021-08-31T00:00:00",
          "2021-09-01T00:00:00",
          "2021-09-02T00:00:00",
          "2021-09-03T00:00:00",
          "2021-09-06T00:00:00",
          "2021-09-08T00:00:00",
          "2021-09-09T00:00:00",
          "2021-09-10T00:00:00",
          "2021-09-13T00:00:00",
          "2021-09-14T00:00:00",
          "2021-09-15T00:00:00",
          "2021-09-16T00:00:00",
          "2021-09-17T00:00:00",
          "2021-09-20T00:00:00",
          "2021-09-21T00:00:00",
          "2021-09-22T00:00:00",
          "2021-09-23T00:00:00",
          "2021-09-24T00:00:00",
          "2021-09-27T00:00:00",
          "2021-09-28T00:00:00",
          "2021-09-29T00:00:00",
          "2021-09-30T00:00:00",
          "2021-10-01T00:00:00",
          "2021-10-04T00:00:00",
          "2021-10-05T00:00:00",
          "2021-10-06T00:00:00",
          "2021-10-07T00:00:00",
          "2021-10-08T00:00:00",
          "2021-10-11T00:00:00",
          "2021-10-13T00:00:00",
          "2021-10-14T00:00:00",
          "2021-10-15T00:00:00",
          "2021-10-18T00:00:00",
          "2021-10-19T00:00:00",
          "2021-10-20T00:00:00",
          "2021-10-21T00:00:00",
          "2021-10-22T00:00:00",
          "2021-10-25T00:00:00",
          "2021-10-26T00:00:00",
          "2021-10-27T00:00:00",
          "2021-10-28T00:00:00",
          "2021-10-29T00:00:00",
          "2021-11-01T00:00:00",
          "2021-11-03T00:00:00",
          "2021-11-04T00:00:00",
          "2021-11-05T00:00:00",
          "2021-11-08T00:00:00",
          "2021-11-09T00:00:00",
          "2021-11-10T00:00:00",
          "2021-11-11T00:00:00",
          "2021-11-12T00:00:00",
          "2021-11-16T00:00:00",
          "2021-11-17T00:00:00",
          "2021-11-18T00:00:00",
          "2021-11-19T00:00:00",
          "2021-11-22T00:00:00",
          "2021-11-23T00:00:00",
          "2021-11-24T00:00:00",
          "2021-11-25T00:00:00",
          "2021-11-26T00:00:00",
          "2021-11-29T00:00:00",
          "2021-11-30T00:00:00",
          "2021-12-01T00:00:00",
          "2021-12-02T00:00:00",
          "2021-12-03T00:00:00",
          "2021-12-06T00:00:00",
          "2021-12-07T00:00:00",
          "2021-12-08T00:00:00",
          "2021-12-09T00:00:00",
          "2021-12-10T00:00:00",
          "2021-12-13T00:00:00",
          "2021-12-14T00:00:00",
          "2021-12-15T00:00:00",
          "2021-12-16T00:00:00",
          "2021-12-17T00:00:00",
          "2021-12-20T00:00:00",
          "2021-12-21T00:00:00",
          "2021-12-22T00:00:00",
          "2021-12-23T00:00:00",
          "2021-12-27T00:00:00",
          "2021-12-28T00:00:00",
          "2021-12-29T00:00:00",
          "2021-12-30T00:00:00",
          "2022-01-03T00:00:00",
          "2022-01-04T00:00:00",
          "2022-01-05T00:00:00",
          "2022-01-06T00:00:00",
          "2022-01-07T00:00:00",
          "2022-01-10T00:00:00",
          "2022-01-11T00:00:00",
          "2022-01-12T00:00:00",
          "2022-01-13T00:00:00",
          "2022-01-14T00:00:00",
          "2022-01-17T00:00:00",
          "2022-01-18T00:00:00",
          "2022-01-19T00:00:00",
          "2022-01-20T00:00:00",
          "2022-01-21T00:00:00",
          "2022-01-24T00:00:00",
          "2022-01-25T00:00:00",
          "2022-01-26T00:00:00",
          "2022-01-27T00:00:00",
          "2022-01-28T00:00:00",
          "2022-01-31T00:00:00",
          "2022-02-01T00:00:00",
          "2022-02-02T00:00:00",
          "2022-02-03T00:00:00",
          "2022-02-04T00:00:00",
          "2022-02-07T00:00:00",
          "2022-02-08T00:00:00",
          "2022-02-09T00:00:00",
          "2022-02-10T00:00:00",
          "2022-02-11T00:00:00",
          "2022-02-14T00:00:00",
          "2022-02-15T00:00:00",
          "2022-02-16T00:00:00",
          "2022-02-17T00:00:00",
          "2022-02-18T00:00:00",
          "2022-02-21T00:00:00",
          "2022-02-22T00:00:00",
          "2022-02-23T00:00:00",
          "2022-02-24T00:00:00",
          "2022-02-25T00:00:00",
          "2022-03-02T00:00:00",
          "2022-03-03T00:00:00",
          "2022-03-04T00:00:00",
          "2022-03-07T00:00:00",
          "2022-03-08T00:00:00",
          "2022-03-09T00:00:00",
          "2022-03-10T00:00:00",
          "2022-03-11T00:00:00",
          "2022-03-14T00:00:00",
          "2022-03-15T00:00:00",
          "2022-03-16T00:00:00",
          "2022-03-17T00:00:00",
          "2022-03-18T00:00:00",
          "2022-03-21T00:00:00",
          "2022-03-22T00:00:00",
          "2022-03-23T00:00:00",
          "2022-03-24T00:00:00",
          "2022-03-25T00:00:00",
          "2022-03-28T00:00:00",
          "2022-03-29T00:00:00",
          "2022-03-30T00:00:00",
          "2022-03-31T00:00:00",
          "2022-04-01T00:00:00",
          "2022-04-04T00:00:00",
          "2022-04-05T00:00:00",
          "2022-04-06T00:00:00",
          "2022-04-07T00:00:00",
          "2022-04-08T00:00:00",
          "2022-04-11T00:00:00",
          "2022-04-12T00:00:00",
          "2022-04-13T00:00:00",
          "2022-04-14T00:00:00",
          "2022-04-18T00:00:00",
          "2022-04-19T00:00:00",
          "2022-04-20T00:00:00",
          "2022-04-22T00:00:00",
          "2022-04-25T00:00:00",
          "2022-04-26T00:00:00",
          "2022-04-27T00:00:00",
          "2022-04-28T00:00:00",
          "2022-04-29T00:00:00",
          "2022-05-02T00:00:00",
          "2022-05-03T00:00:00",
          "2022-05-04T00:00:00",
          "2022-05-05T00:00:00",
          "2022-05-06T00:00:00",
          "2022-05-09T00:00:00",
          "2022-05-10T00:00:00",
          "2022-05-11T00:00:00",
          "2022-05-12T00:00:00",
          "2022-05-13T00:00:00",
          "2022-05-16T00:00:00",
          "2022-05-17T00:00:00",
          "2022-05-18T00:00:00",
          "2022-05-19T00:00:00"
         ]
        }
       ],
       "layout": {
        "height": 600,
        "template": {
         "data": {
          "bar": [
           {
            "error_x": {
             "color": "rgb(36,36,36)"
            },
            "error_y": {
             "color": "rgb(36,36,36)"
            },
            "marker": {
             "line": {
              "color": "rgb(234,234,242)",
              "width": 0.5
             },
             "pattern": {
              "fillmode": "overlay",
              "size": 10,
              "solidity": 0.2
             }
            },
            "type": "bar"
           }
          ],
          "barpolar": [
           {
            "marker": {
             "line": {
              "color": "rgb(234,234,242)",
              "width": 0.5
             },
             "pattern": {
              "fillmode": "overlay",
              "size": 10,
              "solidity": 0.2
             }
            },
            "type": "barpolar"
           }
          ],
          "carpet": [
           {
            "aaxis": {
             "endlinecolor": "rgb(36,36,36)",
             "gridcolor": "white",
             "linecolor": "white",
             "minorgridcolor": "white",
             "startlinecolor": "rgb(36,36,36)"
            },
            "baxis": {
             "endlinecolor": "rgb(36,36,36)",
             "gridcolor": "white",
             "linecolor": "white",
             "minorgridcolor": "white",
             "startlinecolor": "rgb(36,36,36)"
            },
            "type": "carpet"
           }
          ],
          "choropleth": [
           {
            "colorbar": {
             "outlinewidth": 0,
             "tickcolor": "rgb(36,36,36)",
             "ticklen": 8,
             "ticks": "outside",
             "tickwidth": 2
            },
            "type": "choropleth"
           }
          ],
          "contour": [
           {
            "colorbar": {
             "outlinewidth": 0,
             "tickcolor": "rgb(36,36,36)",
             "ticklen": 8,
             "ticks": "outside",
             "tickwidth": 2
            },
            "colorscale": [
             [
              0,
              "rgb(2,4,25)"
             ],
             [
              0.06274509803921569,
              "rgb(24,15,41)"
             ],
             [
              0.12549019607843137,
              "rgb(47,23,57)"
             ],
             [
              0.18823529411764706,
              "rgb(71,28,72)"
             ],
             [
              0.25098039215686274,
              "rgb(97,30,82)"
             ],
             [
              0.3137254901960784,
              "rgb(123,30,89)"
             ],
             [
              0.3764705882352941,
              "rgb(150,27,91)"
             ],
             [
              0.4392156862745098,
              "rgb(177,22,88)"
             ],
             [
              0.5019607843137255,
              "rgb(203,26,79)"
             ],
             [
              0.5647058823529412,
              "rgb(223,47,67)"
             ],
             [
              0.6274509803921569,
              "rgb(236,76,61)"
             ],
             [
              0.6901960784313725,
              "rgb(242,107,73)"
             ],
             [
              0.7529411764705882,
              "rgb(244,135,95)"
             ],
             [
              0.8156862745098039,
              "rgb(245,162,122)"
             ],
             [
              0.8784313725490196,
              "rgb(246,188,153)"
             ],
             [
              0.9411764705882353,
              "rgb(247,212,187)"
             ],
             [
              1,
              "rgb(250,234,220)"
             ]
            ],
            "type": "contour"
           }
          ],
          "contourcarpet": [
           {
            "colorbar": {
             "outlinewidth": 0,
             "tickcolor": "rgb(36,36,36)",
             "ticklen": 8,
             "ticks": "outside",
             "tickwidth": 2
            },
            "type": "contourcarpet"
           }
          ],
          "heatmap": [
           {
            "colorbar": {
             "outlinewidth": 0,
             "tickcolor": "rgb(36,36,36)",
             "ticklen": 8,
             "ticks": "outside",
             "tickwidth": 2
            },
            "colorscale": [
             [
              0,
              "rgb(2,4,25)"
             ],
             [
              0.06274509803921569,
              "rgb(24,15,41)"
             ],
             [
              0.12549019607843137,
              "rgb(47,23,57)"
             ],
             [
              0.18823529411764706,
              "rgb(71,28,72)"
             ],
             [
              0.25098039215686274,
              "rgb(97,30,82)"
             ],
             [
              0.3137254901960784,
              "rgb(123,30,89)"
             ],
             [
              0.3764705882352941,
              "rgb(150,27,91)"
             ],
             [
              0.4392156862745098,
              "rgb(177,22,88)"
             ],
             [
              0.5019607843137255,
              "rgb(203,26,79)"
             ],
             [
              0.5647058823529412,
              "rgb(223,47,67)"
             ],
             [
              0.6274509803921569,
              "rgb(236,76,61)"
             ],
             [
              0.6901960784313725,
              "rgb(242,107,73)"
             ],
             [
              0.7529411764705882,
              "rgb(244,135,95)"
             ],
             [
              0.8156862745098039,
              "rgb(245,162,122)"
             ],
             [
              0.8784313725490196,
              "rgb(246,188,153)"
             ],
             [
              0.9411764705882353,
              "rgb(247,212,187)"
             ],
             [
              1,
              "rgb(250,234,220)"
             ]
            ],
            "type": "heatmap"
           }
          ],
          "heatmapgl": [
           {
            "colorbar": {
             "outlinewidth": 0,
             "tickcolor": "rgb(36,36,36)",
             "ticklen": 8,
             "ticks": "outside",
             "tickwidth": 2
            },
            "colorscale": [
             [
              0,
              "rgb(2,4,25)"
             ],
             [
              0.06274509803921569,
              "rgb(24,15,41)"
             ],
             [
              0.12549019607843137,
              "rgb(47,23,57)"
             ],
             [
              0.18823529411764706,
              "rgb(71,28,72)"
             ],
             [
              0.25098039215686274,
              "rgb(97,30,82)"
             ],
             [
              0.3137254901960784,
              "rgb(123,30,89)"
             ],
             [
              0.3764705882352941,
              "rgb(150,27,91)"
             ],
             [
              0.4392156862745098,
              "rgb(177,22,88)"
             ],
             [
              0.5019607843137255,
              "rgb(203,26,79)"
             ],
             [
              0.5647058823529412,
              "rgb(223,47,67)"
             ],
             [
              0.6274509803921569,
              "rgb(236,76,61)"
             ],
             [
              0.6901960784313725,
              "rgb(242,107,73)"
             ],
             [
              0.7529411764705882,
              "rgb(244,135,95)"
             ],
             [
              0.8156862745098039,
              "rgb(245,162,122)"
             ],
             [
              0.8784313725490196,
              "rgb(246,188,153)"
             ],
             [
              0.9411764705882353,
              "rgb(247,212,187)"
             ],
             [
              1,
              "rgb(250,234,220)"
             ]
            ],
            "type": "heatmapgl"
           }
          ],
          "histogram": [
           {
            "marker": {
             "pattern": {
              "fillmode": "overlay",
              "size": 10,
              "solidity": 0.2
             }
            },
            "type": "histogram"
           }
          ],
          "histogram2d": [
           {
            "colorbar": {
             "outlinewidth": 0,
             "tickcolor": "rgb(36,36,36)",
             "ticklen": 8,
             "ticks": "outside",
             "tickwidth": 2
            },
            "colorscale": [
             [
              0,
              "rgb(2,4,25)"
             ],
             [
              0.06274509803921569,
              "rgb(24,15,41)"
             ],
             [
              0.12549019607843137,
              "rgb(47,23,57)"
             ],
             [
              0.18823529411764706,
              "rgb(71,28,72)"
             ],
             [
              0.25098039215686274,
              "rgb(97,30,82)"
             ],
             [
              0.3137254901960784,
              "rgb(123,30,89)"
             ],
             [
              0.3764705882352941,
              "rgb(150,27,91)"
             ],
             [
              0.4392156862745098,
              "rgb(177,22,88)"
             ],
             [
              0.5019607843137255,
              "rgb(203,26,79)"
             ],
             [
              0.5647058823529412,
              "rgb(223,47,67)"
             ],
             [
              0.6274509803921569,
              "rgb(236,76,61)"
             ],
             [
              0.6901960784313725,
              "rgb(242,107,73)"
             ],
             [
              0.7529411764705882,
              "rgb(244,135,95)"
             ],
             [
              0.8156862745098039,
              "rgb(245,162,122)"
             ],
             [
              0.8784313725490196,
              "rgb(246,188,153)"
             ],
             [
              0.9411764705882353,
              "rgb(247,212,187)"
             ],
             [
              1,
              "rgb(250,234,220)"
             ]
            ],
            "type": "histogram2d"
           }
          ],
          "histogram2dcontour": [
           {
            "colorbar": {
             "outlinewidth": 0,
             "tickcolor": "rgb(36,36,36)",
             "ticklen": 8,
             "ticks": "outside",
             "tickwidth": 2
            },
            "colorscale": [
             [
              0,
              "rgb(2,4,25)"
             ],
             [
              0.06274509803921569,
              "rgb(24,15,41)"
             ],
             [
              0.12549019607843137,
              "rgb(47,23,57)"
             ],
             [
              0.18823529411764706,
              "rgb(71,28,72)"
             ],
             [
              0.25098039215686274,
              "rgb(97,30,82)"
             ],
             [
              0.3137254901960784,
              "rgb(123,30,89)"
             ],
             [
              0.3764705882352941,
              "rgb(150,27,91)"
             ],
             [
              0.4392156862745098,
              "rgb(177,22,88)"
             ],
             [
              0.5019607843137255,
              "rgb(203,26,79)"
             ],
             [
              0.5647058823529412,
              "rgb(223,47,67)"
             ],
             [
              0.6274509803921569,
              "rgb(236,76,61)"
             ],
             [
              0.6901960784313725,
              "rgb(242,107,73)"
             ],
             [
              0.7529411764705882,
              "rgb(244,135,95)"
             ],
             [
              0.8156862745098039,
              "rgb(245,162,122)"
             ],
             [
              0.8784313725490196,
              "rgb(246,188,153)"
             ],
             [
              0.9411764705882353,
              "rgb(247,212,187)"
             ],
             [
              1,
              "rgb(250,234,220)"
             ]
            ],
            "type": "histogram2dcontour"
           }
          ],
          "mesh3d": [
           {
            "colorbar": {
             "outlinewidth": 0,
             "tickcolor": "rgb(36,36,36)",
             "ticklen": 8,
             "ticks": "outside",
             "tickwidth": 2
            },
            "type": "mesh3d"
           }
          ],
          "parcoords": [
           {
            "line": {
             "colorbar": {
              "outlinewidth": 0,
              "tickcolor": "rgb(36,36,36)",
              "ticklen": 8,
              "ticks": "outside",
              "tickwidth": 2
             }
            },
            "type": "parcoords"
           }
          ],
          "pie": [
           {
            "automargin": true,
            "type": "pie"
           }
          ],
          "scatter": [
           {
            "fillpattern": {
             "fillmode": "overlay",
             "size": 10,
             "solidity": 0.2
            },
            "type": "scatter"
           }
          ],
          "scatter3d": [
           {
            "line": {
             "colorbar": {
              "outlinewidth": 0,
              "tickcolor": "rgb(36,36,36)",
              "ticklen": 8,
              "ticks": "outside",
              "tickwidth": 2
             }
            },
            "marker": {
             "colorbar": {
              "outlinewidth": 0,
              "tickcolor": "rgb(36,36,36)",
              "ticklen": 8,
              "ticks": "outside",
              "tickwidth": 2
             }
            },
            "type": "scatter3d"
           }
          ],
          "scattercarpet": [
           {
            "marker": {
             "colorbar": {
              "outlinewidth": 0,
              "tickcolor": "rgb(36,36,36)",
              "ticklen": 8,
              "ticks": "outside",
              "tickwidth": 2
             }
            },
            "type": "scattercarpet"
           }
          ],
          "scattergeo": [
           {
            "marker": {
             "colorbar": {
              "outlinewidth": 0,
              "tickcolor": "rgb(36,36,36)",
              "ticklen": 8,
              "ticks": "outside",
              "tickwidth": 2
             }
            },
            "type": "scattergeo"
           }
          ],
          "scattergl": [
           {
            "marker": {
             "colorbar": {
              "outlinewidth": 0,
              "tickcolor": "rgb(36,36,36)",
              "ticklen": 8,
              "ticks": "outside",
              "tickwidth": 2
             }
            },
            "type": "scattergl"
           }
          ],
          "scattermapbox": [
           {
            "marker": {
             "colorbar": {
              "outlinewidth": 0,
              "tickcolor": "rgb(36,36,36)",
              "ticklen": 8,
              "ticks": "outside",
              "tickwidth": 2
             }
            },
            "type": "scattermapbox"
           }
          ],
          "scatterpolar": [
           {
            "marker": {
             "colorbar": {
              "outlinewidth": 0,
              "tickcolor": "rgb(36,36,36)",
              "ticklen": 8,
              "ticks": "outside",
              "tickwidth": 2
             }
            },
            "type": "scatterpolar"
           }
          ],
          "scatterpolargl": [
           {
            "marker": {
             "colorbar": {
              "outlinewidth": 0,
              "tickcolor": "rgb(36,36,36)",
              "ticklen": 8,
              "ticks": "outside",
              "tickwidth": 2
             }
            },
            "type": "scatterpolargl"
           }
          ],
          "scatterternary": [
           {
            "marker": {
             "colorbar": {
              "outlinewidth": 0,
              "tickcolor": "rgb(36,36,36)",
              "ticklen": 8,
              "ticks": "outside",
              "tickwidth": 2
             }
            },
            "type": "scatterternary"
           }
          ],
          "surface": [
           {
            "colorbar": {
             "outlinewidth": 0,
             "tickcolor": "rgb(36,36,36)",
             "ticklen": 8,
             "ticks": "outside",
             "tickwidth": 2
            },
            "colorscale": [
             [
              0,
              "rgb(2,4,25)"
             ],
             [
              0.06274509803921569,
              "rgb(24,15,41)"
             ],
             [
              0.12549019607843137,
              "rgb(47,23,57)"
             ],
             [
              0.18823529411764706,
              "rgb(71,28,72)"
             ],
             [
              0.25098039215686274,
              "rgb(97,30,82)"
             ],
             [
              0.3137254901960784,
              "rgb(123,30,89)"
             ],
             [
              0.3764705882352941,
              "rgb(150,27,91)"
             ],
             [
              0.4392156862745098,
              "rgb(177,22,88)"
             ],
             [
              0.5019607843137255,
              "rgb(203,26,79)"
             ],
             [
              0.5647058823529412,
              "rgb(223,47,67)"
             ],
             [
              0.6274509803921569,
              "rgb(236,76,61)"
             ],
             [
              0.6901960784313725,
              "rgb(242,107,73)"
             ],
             [
              0.7529411764705882,
              "rgb(244,135,95)"
             ],
             [
              0.8156862745098039,
              "rgb(245,162,122)"
             ],
             [
              0.8784313725490196,
              "rgb(246,188,153)"
             ],
             [
              0.9411764705882353,
              "rgb(247,212,187)"
             ],
             [
              1,
              "rgb(250,234,220)"
             ]
            ],
            "type": "surface"
           }
          ],
          "table": [
           {
            "cells": {
             "fill": {
              "color": "rgb(231,231,240)"
             },
             "line": {
              "color": "white"
             }
            },
            "header": {
             "fill": {
              "color": "rgb(183,183,191)"
             },
             "line": {
              "color": "white"
             }
            },
            "type": "table"
           }
          ]
         },
         "layout": {
          "annotationdefaults": {
           "arrowcolor": "rgb(67,103,167)"
          },
          "autotypenumbers": "strict",
          "coloraxis": {
           "colorbar": {
            "outlinewidth": 0,
            "tickcolor": "rgb(36,36,36)",
            "ticklen": 8,
            "ticks": "outside",
            "tickwidth": 2
           }
          },
          "colorscale": {
           "sequential": [
            [
             0,
             "rgb(2,4,25)"
            ],
            [
             0.06274509803921569,
             "rgb(24,15,41)"
            ],
            [
             0.12549019607843137,
             "rgb(47,23,57)"
            ],
            [
             0.18823529411764706,
             "rgb(71,28,72)"
            ],
            [
             0.25098039215686274,
             "rgb(97,30,82)"
            ],
            [
             0.3137254901960784,
             "rgb(123,30,89)"
            ],
            [
             0.3764705882352941,
             "rgb(150,27,91)"
            ],
            [
             0.4392156862745098,
             "rgb(177,22,88)"
            ],
            [
             0.5019607843137255,
             "rgb(203,26,79)"
            ],
            [
             0.5647058823529412,
             "rgb(223,47,67)"
            ],
            [
             0.6274509803921569,
             "rgb(236,76,61)"
            ],
            [
             0.6901960784313725,
             "rgb(242,107,73)"
            ],
            [
             0.7529411764705882,
             "rgb(244,135,95)"
            ],
            [
             0.8156862745098039,
             "rgb(245,162,122)"
            ],
            [
             0.8784313725490196,
             "rgb(246,188,153)"
            ],
            [
             0.9411764705882353,
             "rgb(247,212,187)"
            ],
            [
             1,
             "rgb(250,234,220)"
            ]
           ],
           "sequentialminus": [
            [
             0,
             "rgb(2,4,25)"
            ],
            [
             0.06274509803921569,
             "rgb(24,15,41)"
            ],
            [
             0.12549019607843137,
             "rgb(47,23,57)"
            ],
            [
             0.18823529411764706,
             "rgb(71,28,72)"
            ],
            [
             0.25098039215686274,
             "rgb(97,30,82)"
            ],
            [
             0.3137254901960784,
             "rgb(123,30,89)"
            ],
            [
             0.3764705882352941,
             "rgb(150,27,91)"
            ],
            [
             0.4392156862745098,
             "rgb(177,22,88)"
            ],
            [
             0.5019607843137255,
             "rgb(203,26,79)"
            ],
            [
             0.5647058823529412,
             "rgb(223,47,67)"
            ],
            [
             0.6274509803921569,
             "rgb(236,76,61)"
            ],
            [
             0.6901960784313725,
             "rgb(242,107,73)"
            ],
            [
             0.7529411764705882,
             "rgb(244,135,95)"
            ],
            [
             0.8156862745098039,
             "rgb(245,162,122)"
            ],
            [
             0.8784313725490196,
             "rgb(246,188,153)"
            ],
            [
             0.9411764705882353,
             "rgb(247,212,187)"
            ],
            [
             1,
             "rgb(250,234,220)"
            ]
           ]
          },
          "colorway": [
           "rgb(76,114,176)",
           "rgb(221,132,82)",
           "rgb(85,168,104)",
           "rgb(196,78,82)",
           "rgb(129,114,179)",
           "rgb(147,120,96)",
           "rgb(218,139,195)",
           "rgb(140,140,140)",
           "rgb(204,185,116)",
           "rgb(100,181,205)"
          ],
          "font": {
           "color": "rgb(36,36,36)"
          },
          "geo": {
           "bgcolor": "white",
           "lakecolor": "white",
           "landcolor": "rgb(234,234,242)",
           "showlakes": true,
           "showland": true,
           "subunitcolor": "white"
          },
          "hoverlabel": {
           "align": "left"
          },
          "hovermode": "closest",
          "paper_bgcolor": "white",
          "plot_bgcolor": "rgb(234,234,242)",
          "polar": {
           "angularaxis": {
            "gridcolor": "white",
            "linecolor": "white",
            "showgrid": true,
            "ticks": ""
           },
           "bgcolor": "rgb(234,234,242)",
           "radialaxis": {
            "gridcolor": "white",
            "linecolor": "white",
            "showgrid": true,
            "ticks": ""
           }
          },
          "scene": {
           "xaxis": {
            "backgroundcolor": "rgb(234,234,242)",
            "gridcolor": "white",
            "gridwidth": 2,
            "linecolor": "white",
            "showbackground": true,
            "showgrid": true,
            "ticks": "",
            "zerolinecolor": "white"
           },
           "yaxis": {
            "backgroundcolor": "rgb(234,234,242)",
            "gridcolor": "white",
            "gridwidth": 2,
            "linecolor": "white",
            "showbackground": true,
            "showgrid": true,
            "ticks": "",
            "zerolinecolor": "white"
           },
           "zaxis": {
            "backgroundcolor": "rgb(234,234,242)",
            "gridcolor": "white",
            "gridwidth": 2,
            "linecolor": "white",
            "showbackground": true,
            "showgrid": true,
            "ticks": "",
            "zerolinecolor": "white"
           }
          },
          "shapedefaults": {
           "fillcolor": "rgb(67,103,167)",
           "line": {
            "width": 0
           },
           "opacity": 0.5
          },
          "ternary": {
           "aaxis": {
            "gridcolor": "white",
            "linecolor": "white",
            "showgrid": true,
            "ticks": ""
           },
           "baxis": {
            "gridcolor": "white",
            "linecolor": "white",
            "showgrid": true,
            "ticks": ""
           },
           "bgcolor": "rgb(234,234,242)",
           "caxis": {
            "gridcolor": "white",
            "linecolor": "white",
            "showgrid": true,
            "ticks": ""
           }
          },
          "xaxis": {
           "automargin": true,
           "gridcolor": "white",
           "linecolor": "white",
           "showgrid": true,
           "ticks": "",
           "title": {
            "standoff": 15
           },
           "zerolinecolor": "white"
          },
          "yaxis": {
           "automargin": true,
           "gridcolor": "white",
           "linecolor": "white",
           "showgrid": true,
           "ticks": "",
           "title": {
            "standoff": 15
           },
           "zerolinecolor": "white"
          }
         }
        },
        "width": 1180
       }
      }
     },
     "metadata": {},
     "output_type": "display_data"
    }
   ],
   "source": [
    "# Criando gráfico com a Abertura, Fechamento, Maior e Menor valor do dia\n",
    "\n",
    "Grafico = go.Figure(\n",
    "    data=[\n",
    "          go.Candlestick(\n",
    "              x= BaseDados.Date,\n",
    "              open = BaseDados['Open'],\n",
    "              high = BaseDados['High'],\n",
    "              low = BaseDados['Low'],\n",
    "              close = BaseDados['Close'],\n",
    "          )\n",
    "    ]\n",
    ")\n",
    "Grafico.layout.template = \"seaborn\"\n",
    "Grafico.layout.height = 600\n",
    "Grafico.layout.width = 1180\n",
    "Grafico.show()"
   ]
  }
 ],
 "metadata": {
  "interpreter": {
   "hash": "49f74a75d52e43ff0eda27ed7dc81a5e661d3c8c5ec3b52a8df24b749c764907"
  },
  "kernelspec": {
   "display_name": "Python 3.10.2 64-bit",
   "language": "python",
   "name": "python3"
  },
  "language_info": {
   "codemirror_mode": {
    "name": "ipython",
    "version": 3
   },
   "file_extension": ".py",
   "mimetype": "text/x-python",
   "name": "python",
   "nbconvert_exporter": "python",
   "pygments_lexer": "ipython3",
   "version": "3.10.2"
  },
  "orig_nbformat": 4
 },
 "nbformat": 4,
 "nbformat_minor": 2
}
