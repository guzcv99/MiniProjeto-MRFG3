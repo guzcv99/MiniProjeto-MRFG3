{
 "cells": [
  {
   "cell_type": "code",
   "execution_count": null,
   "metadata": {},
   "outputs": [],
   "source": [
    "## Bibliotecas necessárias \n",
    "\n",
    "# Biblioteca para Modelagem\n",
    "import numpy as np\n",
    "import pandas as pd\n",
    "\n",
    "# Biblioteca para análise gráfica\n",
    "import matplotlib.pyplot as plt\n",
    "import plotly.graph_objects as go\n",
    "import seaborn as sns\n",
    "\n",
    "# Ignorar avisos\n",
    "import warnings\n",
    "warnings.filterwarnings('ignore')"
   ]
  },
  {
   "cell_type": "code",
   "execution_count": null,
   "metadata": {},
   "outputs": [],
   "source": [
    "# Lendo a base de dados e visulizando as 5 primeiras linhas\n",
    "BaseDados = pd.read_csv(\"MRFG3.SA.csv\")\n",
    "BaseDados.head(6)"
   ]
  },
  {
   "cell_type": "code",
   "execution_count": null,
   "metadata": {},
   "outputs": [],
   "source": [
    "# Verificando se é necessário alguma modificação no tipo de dado\n",
    "BaseDados.info()"
   ]
  },
  {
   "cell_type": "code",
   "execution_count": null,
   "metadata": {},
   "outputs": [],
   "source": [
    "# Mudando o Type da coluna \"Date\" para data e verificando a mudança\n",
    "BaseDados[\"Date\"] = BaseDados[\"Date\"].astype(\"datetime64\")\n",
    "BaseDados.info()"
   ]
  }
 ],
 "metadata": {
  "interpreter": {
   "hash": "49f74a75d52e43ff0eda27ed7dc81a5e661d3c8c5ec3b52a8df24b749c764907"
  },
  "kernelspec": {
   "display_name": "Python 3.10.2 64-bit",
   "language": "python",
   "name": "python3"
  },
  "language_info": {
   "codemirror_mode": {
    "name": "ipython",
    "version": 3
   },
   "file_extension": ".py",
   "mimetype": "text/x-python",
   "name": "python",
   "nbconvert_exporter": "python",
   "pygments_lexer": "ipython3",
   "version": "3.10.2"
  },
  "orig_nbformat": 4
 },
 "nbformat": 4,
 "nbformat_minor": 2
}
