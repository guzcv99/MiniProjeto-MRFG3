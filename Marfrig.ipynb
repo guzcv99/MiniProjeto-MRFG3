{
 "cells": [
  {
   "cell_type": "code",
   "execution_count": null,
   "metadata": {},
   "outputs": [],
   "source": [
    "## Bibliotecas necessárias \n",
    "\n",
    "# Biblioteca para Modelagem\n",
    "import numpy as np\n",
    "import pandas as pd\n",
    "\n",
    "# Biblioteca para análise gráfica\n",
    "import matplotlib.pyplot as plt\n",
    "import plotly.graph_objects as go\n",
    "import seaborn as sns\n",
    "\n",
    "# Ignorar avisos\n",
    "import warnings\n",
    "warnings.filterwarnings('ignore')"
   ]
  },
  {
   "cell_type": "code",
   "execution_count": null,
   "metadata": {},
   "outputs": [],
   "source": [
    "# Lendo a base de dados e visulizando as primeiras linhas\n",
    "BaseDados = pd.read_csv(\"MRFG3.SA.csv\")\n",
    "BaseDados.head()"
   ]
  },
  {
   "cell_type": "code",
   "execution_count": null,
   "metadata": {},
   "outputs": [],
   "source": [
    "# Verificando se é necessário alguma modificação no tipo de dado\n",
    "BaseDados.info()"
   ]
  },
  {
   "cell_type": "code",
   "execution_count": null,
   "metadata": {},
   "outputs": [],
   "source": [
    "# Mudando o Type da coluna \"Date\" para data e verificando a mudança\n",
    "BaseDados[\"Date\"] = BaseDados[\"Date\"].astype(\"datetime64\")\n",
    "BaseDados.info()"
   ]
  },
  {
   "cell_type": "code",
   "execution_count": null,
   "metadata": {},
   "outputs": [],
   "source": [
    "# Setando a coluna Date como Index\n",
    "Dados = BaseDados.set_index('Date')\n",
    "Dados.head()"
   ]
  },
  {
   "cell_type": "code",
   "execution_count": null,
   "metadata": {},
   "outputs": [],
   "source": [
    "# Estilo do gráfico\n",
    "plt.style.use('seaborn-darkgrid')\n",
    "plt.figure( figsize=(20, 8))\n",
    "\n",
    "# Criando o gráfico\n",
    "plt.title('Análise de Fechamento - MRFG3', fontsize=16)\n",
    "plt.plot( Dados.index, Dados['Close'], label=\"Fechamento\")\n",
    "\n",
    "# Titulos\n",
    "plt.xlabel('Período da Cotação',fontsize=13)\n",
    "plt.ylabel('Valor da Ação (R$)',fontsize=13)"
   ]
  },
  {
   "cell_type": "code",
   "execution_count": null,
   "metadata": {},
   "outputs": [],
   "source": [
    "## Grafico de Tendência e Média móvel\n",
    "\n",
    "# Criando as variáveis\n",
    "MediaMovel = Dados['Close'].rolling(5).mean()\n",
    "Tendencia = Dados['Close'].rolling(30).mean()\n",
    "\n",
    "# Estilo do gráfico\n",
    "plt.style.use('seaborn-darkgrid')\n",
    "plt.figure( figsize=(20, 8) )\n",
    "plt.title('Análise de Fechamento - MRFG3', fontsize=16)\n",
    "\n",
    "# Criando o gráfico\n",
    "plt.plot( Dados.index, Dados['Close'],label=\"Fechamento\")\n",
    "plt.plot( Dados.index, MediaMovel, label=\"Média Móvel\")\n",
    "plt.plot( Dados.index, Tendencia, label='Tendência')\n",
    "\n",
    "# Titulos e legendas\n",
    "plt.legend(fontsize=13, loc=1)\n",
    "plt.xlabel('Período da Coração',fontsize=13)\n",
    "plt.ylabel('Valor da Ação (R$)',fontsize=13)"
   ]
  },
  {
   "cell_type": "code",
   "execution_count": null,
   "metadata": {},
   "outputs": [],
   "source": [
    "# Criando colunda de Mês\n",
    "BaseDados[\"month\"] = BaseDados[\"Date\"].dt.month\n",
    "# Gerando BoxPlot\n",
    "plt.figure(figsize= (20,8))\n",
    "sns.boxplot(data=BaseDados, x = \"month\", y = \"Close\")\n",
    "plt.title('Análise de Fechamento de cada mês do ano - MRFG3', fontsize=16)\n",
    "plt.xlabel('Mês da cotação',fontsize=13)\n",
    "plt.ylabel('Valor da Ação (R$)',fontsize=13)"
   ]
  },
  {
   "cell_type": "code",
   "execution_count": null,
   "metadata": {},
   "outputs": [],
   "source": [
    "# Criando gráfico com a Abertura, Fechamento, Maior e Menor valor do dia\n",
    "\n",
    "Grafico = go.Figure(\n",
    "    data=[\n",
    "          go.Candlestick(\n",
    "              x= Dados.index,\n",
    "              open = Dados['Open'],\n",
    "              high = Dados['High'],\n",
    "              low = Dados['Low'],\n",
    "              close = Dados['Close'],\n",
    "          )\n",
    "    ]\n",
    ")\n",
    "Grafico.layout.template = \"seaborn\"\n",
    "Grafico.layout.height = 600\n",
    "Grafico.layout.width = 1180\n",
    "Grafico.show()"
   ]
  }
 ],
 "metadata": {
  "interpreter": {
   "hash": "49f74a75d52e43ff0eda27ed7dc81a5e661d3c8c5ec3b52a8df24b749c764907"
  },
  "kernelspec": {
   "display_name": "Python 3.10.2 64-bit",
   "language": "python",
   "name": "python3"
  },
  "language_info": {
   "codemirror_mode": {
    "name": "ipython",
    "version": 3
   },
   "file_extension": ".py",
   "mimetype": "text/x-python",
   "name": "python",
   "nbconvert_exporter": "python",
   "pygments_lexer": "ipython3",
   "version": "3.10.2"
  },
  "orig_nbformat": 4
 },
 "nbformat": 4,
 "nbformat_minor": 2
}
